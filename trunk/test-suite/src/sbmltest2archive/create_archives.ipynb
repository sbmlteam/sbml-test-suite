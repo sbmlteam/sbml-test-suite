{
 "metadata": {
  "name": "",
  "signature": "sha256:91dc606471a39b71bdf6ec12f8163e697129b76a58a7894bc7561ced84ed251d"
 },
 "nbformat": 3,
 "nbformat_minor": 0,
 "worksheets": [
  {
   "cells": [
    {
     "cell_type": "code",
     "collapsed": false,
     "input": [
      "# Install dependencies are installed\n",
      "!pip install httpie\n",
      "# Download test cases\n",
      "!mkdir -p sbml-test-cases\n",
      "!http --download http://sourceforge.net/projects/sbml/files/test-suite/3.1.1/cases-archive/sbml-test-cases-2014-10-22.zip/download --output sbml-test-cases/cases.zip   \n",
      "# Setup destination for archives\n",
      "!mkdir -p archives\n",
      "# Unzip test cases\n",
      "!cd sbml-test-cases && unzip cases.zip > /dev/null"
     ],
     "language": "python",
     "metadata": {},
     "outputs": []
    },
    {
     "cell_type": "code",
     "collapsed": false,
     "input": [
      "import xml.etree.ElementTree as ET                                                                                                                                                                             \n",
      "from os import listdir\n",
      "from os import path\n",
      "import os"
     ],
     "language": "python",
     "metadata": {},
     "outputs": [],
     "prompt_number": 25
    },
    {
     "cell_type": "code",
     "collapsed": false,
     "input": [
      "def is_number(s):\n",
      "    try:\n",
      "        float(s)\n",
      "        return True\n",
      "    except ValueError:\n",
      "        return False\n",
      "\n",
      "# Find all sbml test cases\n",
      "root_path = path.abspath('sbml-test-cases/cases/semantic/')\n",
      "cases = [case for case in listdir(root_path) if is_number(case)]\n",
      "cases = sorted(cases)"
     ],
     "language": "python",
     "metadata": {},
     "outputs": [],
     "prompt_number": 71
    },
    {
     "cell_type": "code",
     "collapsed": false,
     "input": [
      "import re\n",
      "from xml.dom import minidom\n",
      "\n",
      "for case in cases:\n",
      "    folder_path = path.join(root_path, case)\n",
      "    ls = listdir(folder_path)\n",
      "    regex_sbml = re.compile(case + '-sbml-l\\dv\\d\\.xml', re.IGNORECASE) \n",
      "    regex_sedml = re.compile(case + '-sbml-l\\dv\\d\\-sedml.xml', re.IGNORECASE) \n",
      "\n",
      "    sbmlfiles = sorted([file for file in ls if regex_sbml.search(file)])\n",
      "    sedmlfiles = sorted([file for file in ls if regex_sedml.search(file)])\n",
      "    plot_file = [file for file in ls if 'plot.jpg' in file][0]\n",
      "\n",
      "    ET.register_namespace('', 'http://identifiers.org/combine.specifications/omex-manifest')\n",
      "    manifest_template = '''<?xml version=\"1.0\" encoding=\"UTF-8\"?>\n",
      "    <omexManifest\n",
      "        xmlns=\"http://identifiers.org/combine.specifications/omex-manifest\"\n",
      "        xmlns:xsi=\"http://www.w3.org/2001/XMLSchema-instance\"\n",
      "        xsi:schemaLocation=\"http://identifiers.org/combine.specifications/omex-manifest combine.xsd \"></omexManifest>\n",
      "    ''' \n",
      "\n",
      "    doc = ET.fromstring(manifest_template)\n",
      "    manifest = ET.SubElement(doc, 'content')\n",
      "    manifest.attrib['format'] = 'http://identifiers.org/combine.specifications/omex-manifest'\n",
      "    manifest.attrib['location'] = './manifest.xml'\n",
      "\n",
      "    for sbmlfile in sbmlfiles:      \n",
      "        model = ET.SubElement(doc, 'content')\n",
      "        model.attrib['format'] = 'http://identifiers.org/combine.specifications/sbml'\n",
      "        model.attrib['location'] = './' + sbmlfile\n",
      "\n",
      "    for sedmlfile in sedmlfiles:\n",
      "        sedml = ET.SubElement(doc, 'content')\n",
      "        sedml.attrib['format'] = 'http://identifiers.org/combine.specifications/sedml'\n",
      "        sedml.attrib['location'] = './' + sedmlfile\n",
      "\n",
      "    manifest_path = path.join(folder_path, 'manifest.xml')\n",
      "    with open(manifest_path, 'wb') as f:\n",
      "        xml_str = ET.tostring(doc, encoding='UTF-8')\n",
      "        # reparse the xml string to pretty print it\n",
      "        reparsed = minidom.parseString(xml_str)\n",
      "        pretty_xml_str = reparsed.toprettyxml(indent=\"    \")\n",
      "        f.write(pretty_xml_str)\n",
      "\n",
      "    # Zipping Combine archive\n",
      "    from zipfile import ZipFile\n",
      "    archive_path = path.join('archives', case + '.zip')\n",
      "    initial_wd = os.getcwd()\n",
      "    ls = listdir(folder_path)\n",
      "    with ZipFile(archive_path, 'w') as archive:\n",
      "        os.chdir(folder_path)\n",
      "        for f in ls:\n",
      "            archive.write(f)\n",
      "\n",
      "    os.chdir(initial_wd)"
     ],
     "language": "python",
     "metadata": {},
     "outputs": [],
     "prompt_number": 72
    }
   ],
   "metadata": {}
  }
 ]
}